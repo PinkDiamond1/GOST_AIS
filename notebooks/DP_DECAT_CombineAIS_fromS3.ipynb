{
 "cells": [
  {
   "cell_type": "markdown",
   "metadata": {},
   "source": [
    "# Combining AIS data\n",
    "\n",
    "AIS data record ship location information; we have acquired two years of ship location information from Spire Inc.\n",
    "\n",
    "The two years of data are stored on the GOST team's S3 bucket, but we will look at other opportunities to store the data, probably on DDH."
   ]
  },
  {
   "cell_type": "code",
   "execution_count": 44,
   "metadata": {},
   "outputs": [],
   "source": [
    "import sys, os, json, time\n",
    "import rasterio, boto3, pygeohash, pyarrow\n",
    "\n",
    "import geopandas as gpd\n",
    "import pandas as pd\n",
    "import pyarrow.feather as feather\n",
    "\n",
    "def tPrint(s):\n",
    "    print(\"%s\\t%s\" % (time.strftime(\"%H:%M:%S\"), s))"
   ]
  },
  {
   "cell_type": "code",
   "execution_count": 32,
   "metadata": {},
   "outputs": [
    {
     "data": {
      "text/plain": [
       "{'0': 'Under way using its engine',\n",
       " '1': 'Anchored',\n",
       " '2': 'Not under command',\n",
       " '3': 'Has restricted maneuverability',\n",
       " '4': 'Ship draught is limiting its movement',\n",
       " '5': 'Moored (tied to another object to limit free movement)',\n",
       " '6': 'Aground',\n",
       " '7': 'Engaged in fishing',\n",
       " '8': 'Under way sailing',\n",
       " '9': '(Number reserved for modifying reported status of ships carrying dangerous goods/harmful substances/marine pollutants)',\n",
       " '10': '(Number reserved for modifying reported status of ships carrying dangerous goods/harmful substances/marine pollutants)',\n",
       " '11': 'Power-driven vessel towing astern',\n",
       " '12': 'Power-driven vessel pushing ahead/towing alongside',\n",
       " '13': '(Reserved for future use)',\n",
       " '14': 'Any of the following are active: AIS-SART (Search and Rescue Transmitter), AIS-MOB (Man Overboard), AIS-EPIRB (Emergency Position Indicating Radio Beacon)',\n",
       " '15': 'Undefined (default)'}"
      ]
     },
     "execution_count": 32,
     "metadata": {},
     "output_type": "execute_result"
    }
   ],
   "source": [
    "aws_bucket = \"wbgdecinternal-ntl\"\n",
    "path = \"AIS\"\n",
    "out_folder = \"/home/wb411133/data/Global/\"\n",
    "docs_folder = \"../Documentation\"\n",
    "ship_types_file = os.path.join(docs_folder, 'ship_types.json')\n",
    "with open(ship_types_file, 'r') as ship_file: # https://faq.spire.com/determining-ais-ship-type\n",
    "    ship_types = json.load(ship_file)\n",
    "\n",
    "ship_status_file = os.path.join(docs_folder, 'ship_statuses.json')\n",
    "with open(ship_status_file, 'r') as ship_status: \n",
    "    ship_status = json.load(ship_status)"
   ]
  },
  {
   "cell_type": "code",
   "execution_count": 3,
   "metadata": {},
   "outputs": [],
   "source": [
    "# List all the AIS files on the S3 bucket\n",
    "client = boto3.client('s3')\n",
    "ais_file_list = client.list_objects_v2(Bucket=aws_bucket, Prefix='AIS', MaxKeys=5000)\n",
    "\n",
    "keep_processing = True\n",
    "continuation_token = ''\n",
    "try:\n",
    "    del final\n",
    "except:\n",
    "    pass\n",
    "loop_cnt = 0\n",
    "\n",
    "# Generate a list of all the files, using the continuation_token \n",
    "while keep_processing:\n",
    "    loop_cnt = loop_cnt + 1\n",
    "    print(loop_cnt)\n",
    "    try:\n",
    "        ais_file_list = client.list_objects_v2(Bucket=aws_bucket, Prefix='AIS', ContinuationToken=continuation_token)\n",
    "    except:\n",
    "        ais_file_list = client.list_objects_v2(Bucket=aws_bucket, Prefix='AIS')\n",
    "    keep_processing = ais_file_list['IsTruncated']\n",
    "    try:\n",
    "        continuation_token = ais_file_list['NextContinuationToken']\n",
    "    except:\n",
    "        pass\n",
    "    try:\n",
    "        final = final + ais_file_list['Contents']\n",
    "    except:\n",
    "        final = ais_file_list['Contents']"
   ]
  },
  {
   "cell_type": "code",
   "execution_count": null,
   "metadata": {
    "scrolled": true
   },
   "outputs": [
    {
     "name": "stdout",
     "output_type": "stream",
     "text": [
      "12:15:07\t1 of 5000: AIS/WorldBank_SAIS_globalAOI_20190101_20201231_000000000000.csv\n"
     ]
    },
    {
     "name": "stderr",
     "output_type": "stream",
     "text": [
      "/home/wb411133/.conda/envs/ee/lib/python3.9/site-packages/IPython/core/interactiveshell.py:3169: DtypeWarning: Columns (11,12,13,18,19) have mixed types.Specify dtype option on import or set low_memory=False.\n",
      "  has_raised = await self.run_ast_nodes(code_ast.body, cell_name,\n"
     ]
    },
    {
     "name": "stdout",
     "output_type": "stream",
     "text": [
      "12:15:29\t2 of 5000: AIS/WorldBank_SAIS_globalAOI_20190101_20201231_000000000001.csv\n",
      "12:15:50\t3 of 5000: AIS/WorldBank_SAIS_globalAOI_20190101_20201231_000000000002.csv\n",
      "12:16:12\t4 of 5000: AIS/WorldBank_SAIS_globalAOI_20190101_20201231_000000000003.csv\n",
      "12:16:35\t5 of 5000: AIS/WorldBank_SAIS_globalAOI_20190101_20201231_000000000004.csv\n",
      "12:16:58\t6 of 5000: AIS/WorldBank_SAIS_globalAOI_20190101_20201231_000000000005.csv\n",
      "12:17:21\t7 of 5000: AIS/WorldBank_SAIS_globalAOI_20190101_20201231_000000000006.csv\n",
      "12:17:44\t8 of 5000: AIS/WorldBank_SAIS_globalAOI_20190101_20201231_000000000007.csv\n",
      "12:18:06\t9 of 5000: AIS/WorldBank_SAIS_globalAOI_20190101_20201231_000000000008.csv\n",
      "12:18:27\t10 of 5000: AIS/WorldBank_SAIS_globalAOI_20190101_20201231_000000000009.csv\n",
      "12:18:50\t11 of 5000: AIS/WorldBank_SAIS_globalAOI_20190101_20201231_000000000010.csv\n",
      "12:19:14\t12 of 5000: AIS/WorldBank_SAIS_globalAOI_20190101_20201231_000000000011.csv\n",
      "12:19:36\t13 of 5000: AIS/WorldBank_SAIS_globalAOI_20190101_20201231_000000000012.csv\n",
      "12:20:00\t14 of 5000: AIS/WorldBank_SAIS_globalAOI_20190101_20201231_000000000013.csv\n",
      "12:20:23\t15 of 5000: AIS/WorldBank_SAIS_globalAOI_20190101_20201231_000000000014.csv\n",
      "12:20:44\t16 of 5000: AIS/WorldBank_SAIS_globalAOI_20190101_20201231_000000000015.csv\n",
      "12:21:06\t17 of 5000: AIS/WorldBank_SAIS_globalAOI_20190101_20201231_000000000016.csv\n",
      "12:21:28\t18 of 5000: AIS/WorldBank_SAIS_globalAOI_20190101_20201231_000000000017.csv\n",
      "12:21:53\t19 of 5000: AIS/WorldBank_SAIS_globalAOI_20190101_20201231_000000000018.csv\n",
      "12:22:17\t20 of 5000: AIS/WorldBank_SAIS_globalAOI_20190101_20201231_000000000019.csv\n",
      "12:22:39\t21 of 5000: AIS/WorldBank_SAIS_globalAOI_20190101_20201231_000000000020.csv\n",
      "12:23:03\t22 of 5000: AIS/WorldBank_SAIS_globalAOI_20190101_20201231_000000000021.csv\n",
      "12:23:26\t23 of 5000: AIS/WorldBank_SAIS_globalAOI_20190101_20201231_000000000022.csv\n",
      "12:23:49\t24 of 5000: AIS/WorldBank_SAIS_globalAOI_20190101_20201231_000000000023.csv\n",
      "12:24:13\t25 of 5000: AIS/WorldBank_SAIS_globalAOI_20190101_20201231_000000000024.csv\n",
      "12:24:36\t26 of 5000: AIS/WorldBank_SAIS_globalAOI_20190101_20201231_000000000025.csv\n",
      "12:25:00\t27 of 5000: AIS/WorldBank_SAIS_globalAOI_20190101_20201231_000000000026.csv\n",
      "12:25:24\t28 of 5000: AIS/WorldBank_SAIS_globalAOI_20190101_20201231_000000000027.csv\n",
      "12:25:49\t29 of 5000: AIS/WorldBank_SAIS_globalAOI_20190101_20201231_000000000028.csv\n",
      "12:26:14\t30 of 5000: AIS/WorldBank_SAIS_globalAOI_20190101_20201231_000000000029.csv\n",
      "12:26:35\t31 of 5000: AIS/WorldBank_SAIS_globalAOI_20190101_20201231_000000000030.csv\n",
      "12:26:59\t32 of 5000: AIS/WorldBank_SAIS_globalAOI_20190101_20201231_000000000031.csv\n",
      "12:27:24\t33 of 5000: AIS/WorldBank_SAIS_globalAOI_20190101_20201231_000000000032.csv\n",
      "12:27:51\t34 of 5000: AIS/WorldBank_SAIS_globalAOI_20190101_20201231_000000000033.csv\n",
      "12:28:18\t35 of 5000: AIS/WorldBank_SAIS_globalAOI_20190101_20201231_000000000034.csv\n",
      "12:28:44\t36 of 5000: AIS/WorldBank_SAIS_globalAOI_20190101_20201231_000000000035.csv\n",
      "12:29:09\t37 of 5000: AIS/WorldBank_SAIS_globalAOI_20190101_20201231_000000000036.csv\n",
      "12:29:36\t38 of 5000: AIS/WorldBank_SAIS_globalAOI_20190101_20201231_000000000037.csv\n",
      "12:30:06\t39 of 5000: AIS/WorldBank_SAIS_globalAOI_20190101_20201231_000000000038.csv\n",
      "12:30:31\t40 of 5000: AIS/WorldBank_SAIS_globalAOI_20190101_20201231_000000000039.csv\n",
      "12:30:58\t41 of 5000: AIS/WorldBank_SAIS_globalAOI_20190101_20201231_000000000040.csv\n",
      "12:31:23\t42 of 5000: AIS/WorldBank_SAIS_globalAOI_20190101_20201231_000000000041.csv\n",
      "12:31:49\t43 of 5000: AIS/WorldBank_SAIS_globalAOI_20190101_20201231_000000000042.csv\n",
      "12:32:16\t44 of 5000: AIS/WorldBank_SAIS_globalAOI_20190101_20201231_000000000043.csv\n",
      "12:32:42\t45 of 5000: AIS/WorldBank_SAIS_globalAOI_20190101_20201231_000000000044.csv\n",
      "12:33:06\t46 of 5000: AIS/WorldBank_SAIS_globalAOI_20190101_20201231_000000000045.csv\n",
      "12:33:32\t47 of 5000: AIS/WorldBank_SAIS_globalAOI_20190101_20201231_000000000046.csv\n",
      "12:33:57\t48 of 5000: AIS/WorldBank_SAIS_globalAOI_20190101_20201231_000000000047.csv\n",
      "12:34:23\t49 of 5000: AIS/WorldBank_SAIS_globalAOI_20190101_20201231_000000000048.csv\n",
      "12:34:50\t50 of 5000: AIS/WorldBank_SAIS_globalAOI_20190101_20201231_000000000049.csv\n",
      "12:35:13\t51 of 5000: AIS/WorldBank_SAIS_globalAOI_20190101_20201231_000000000050.csv\n",
      "12:35:38\t52 of 5000: AIS/WorldBank_SAIS_globalAOI_20190101_20201231_000000000051.csv\n",
      "12:36:04\t53 of 5000: AIS/WorldBank_SAIS_globalAOI_20190101_20201231_000000000052.csv\n",
      "12:36:30\t54 of 5000: AIS/WorldBank_SAIS_globalAOI_20190101_20201231_000000000053.csv\n",
      "12:36:54\t55 of 5000: AIS/WorldBank_SAIS_globalAOI_20190101_20201231_000000000054.csv\n",
      "12:37:21\t56 of 5000: AIS/WorldBank_SAIS_globalAOI_20190101_20201231_000000000055.csv\n",
      "12:37:46\t57 of 5000: AIS/WorldBank_SAIS_globalAOI_20190101_20201231_000000000056.csv\n",
      "12:38:12\t58 of 5000: AIS/WorldBank_SAIS_globalAOI_20190101_20201231_000000000057.csv\n",
      "12:38:40\t59 of 5000: AIS/WorldBank_SAIS_globalAOI_20190101_20201231_000000000058.csv\n",
      "12:39:08\t60 of 5000: AIS/WorldBank_SAIS_globalAOI_20190101_20201231_000000000059.csv\n",
      "12:39:35\t61 of 5000: AIS/WorldBank_SAIS_globalAOI_20190101_20201231_000000000060.csv\n",
      "12:40:03\t62 of 5000: AIS/WorldBank_SAIS_globalAOI_20190101_20201231_000000000061.csv\n",
      "12:40:29\t63 of 5000: AIS/WorldBank_SAIS_globalAOI_20190101_20201231_000000000062.csv\n",
      "12:40:57\t64 of 5000: AIS/WorldBank_SAIS_globalAOI_20190101_20201231_000000000063.csv\n",
      "12:41:24\t65 of 5000: AIS/WorldBank_SAIS_globalAOI_20190101_20201231_000000000064.csv\n",
      "12:41:50\t66 of 5000: AIS/WorldBank_SAIS_globalAOI_20190101_20201231_000000000065.csv\n",
      "12:42:18\t67 of 5000: AIS/WorldBank_SAIS_globalAOI_20190101_20201231_000000000066.csv\n",
      "12:42:46\t68 of 5000: AIS/WorldBank_SAIS_globalAOI_20190101_20201231_000000000067.csv\n",
      "12:43:14\t69 of 5000: AIS/WorldBank_SAIS_globalAOI_20190101_20201231_000000000068.csv\n",
      "12:43:42\t70 of 5000: AIS/WorldBank_SAIS_globalAOI_20190101_20201231_000000000069.csv\n",
      "12:44:11\t71 of 5000: AIS/WorldBank_SAIS_globalAOI_20190101_20201231_000000000070.csv\n",
      "12:44:37\t72 of 5000: AIS/WorldBank_SAIS_globalAOI_20190101_20201231_000000000071.csv\n",
      "12:45:06\t73 of 5000: AIS/WorldBank_SAIS_globalAOI_20190101_20201231_000000000072.csv\n",
      "12:45:33\t74 of 5000: AIS/WorldBank_SAIS_globalAOI_20190101_20201231_000000000073.csv\n",
      "12:46:01\t75 of 5000: AIS/WorldBank_SAIS_globalAOI_20190101_20201231_000000000074.csv\n",
      "12:46:30\t76 of 5000: AIS/WorldBank_SAIS_globalAOI_20190101_20201231_000000000075.csv\n",
      "12:46:58\t77 of 5000: AIS/WorldBank_SAIS_globalAOI_20190101_20201231_000000000076.csv\n",
      "12:47:27\t78 of 5000: AIS/WorldBank_SAIS_globalAOI_20190101_20201231_000000000077.csv\n",
      "12:48:02\t79 of 5000: AIS/WorldBank_SAIS_globalAOI_20190101_20201231_000000000078.csv\n",
      "12:48:29\t80 of 5000: AIS/WorldBank_SAIS_globalAOI_20190101_20201231_000000000079.csv\n",
      "12:48:56\t81 of 5000: AIS/WorldBank_SAIS_globalAOI_20190101_20201231_000000000080.csv\n",
      "12:49:24\t82 of 5000: AIS/WorldBank_SAIS_globalAOI_20190101_20201231_000000000081.csv\n",
      "12:49:51\t83 of 5000: AIS/WorldBank_SAIS_globalAOI_20190101_20201231_000000000082.csv\n",
      "12:50:18\t84 of 5000: AIS/WorldBank_SAIS_globalAOI_20190101_20201231_000000000083.csv\n",
      "12:50:48\t85 of 5000: AIS/WorldBank_SAIS_globalAOI_20190101_20201231_000000000084.csv\n",
      "12:51:17\t86 of 5000: AIS/WorldBank_SAIS_globalAOI_20190101_20201231_000000000085.csv\n",
      "12:51:44\t87 of 5000: AIS/WorldBank_SAIS_globalAOI_20190101_20201231_000000000086.csv\n",
      "12:52:14\t88 of 5000: AIS/WorldBank_SAIS_globalAOI_20190101_20201231_000000000087.csv\n",
      "12:52:41\t89 of 5000: AIS/WorldBank_SAIS_globalAOI_20190101_20201231_000000000088.csv\n",
      "12:53:10\t90 of 5000: AIS/WorldBank_SAIS_globalAOI_20190101_20201231_000000000089.csv\n",
      "12:53:39\t91 of 5000: AIS/WorldBank_SAIS_globalAOI_20190101_20201231_000000000090.csv\n",
      "12:54:06\t92 of 5000: AIS/WorldBank_SAIS_globalAOI_20190101_20201231_000000000091.csv\n",
      "12:54:33\t93 of 5000: AIS/WorldBank_SAIS_globalAOI_20190101_20201231_000000000092.csv\n",
      "12:55:01\t94 of 5000: AIS/WorldBank_SAIS_globalAOI_20190101_20201231_000000000093.csv\n",
      "12:55:30\t95 of 5000: AIS/WorldBank_SAIS_globalAOI_20190101_20201231_000000000094.csv\n",
      "12:55:57\t96 of 5000: AIS/WorldBank_SAIS_globalAOI_20190101_20201231_000000000095.csv\n",
      "12:56:25\t97 of 5000: AIS/WorldBank_SAIS_globalAOI_20190101_20201231_000000000096.csv\n",
      "12:56:55\t98 of 5000: AIS/WorldBank_SAIS_globalAOI_20190101_20201231_000000000097.csv\n"
     ]
    },
    {
     "name": "stdout",
     "output_type": "stream",
     "text": [
      "12:57:24\t99 of 5000: AIS/WorldBank_SAIS_globalAOI_20190101_20201231_000000000098.csv\n",
      "12:57:53\t100 of 5000: AIS/WorldBank_SAIS_globalAOI_20190101_20201231_000000000099.csv\n",
      "12:58:23\t101 of 5000: AIS/WorldBank_SAIS_globalAOI_20190101_20201231_000000000100.csv\n",
      "12:58:51\t102 of 5000: AIS/WorldBank_SAIS_globalAOI_20190101_20201231_000000000101.csv\n",
      "12:59:21\t103 of 5000: AIS/WorldBank_SAIS_globalAOI_20190101_20201231_000000000102.csv\n",
      "12:59:50\t104 of 5000: AIS/WorldBank_SAIS_globalAOI_20190101_20201231_000000000103.csv\n",
      "13:00:20\t105 of 5000: AIS/WorldBank_SAIS_globalAOI_20190101_20201231_000000000104.csv\n",
      "13:00:50\t106 of 5000: AIS/WorldBank_SAIS_globalAOI_20190101_20201231_000000000105.csv\n",
      "13:01:21\t107 of 5000: AIS/WorldBank_SAIS_globalAOI_20190101_20201231_000000000106.csv\n",
      "13:01:51\t108 of 5000: AIS/WorldBank_SAIS_globalAOI_20190101_20201231_000000000107.csv\n",
      "13:02:21\t109 of 5000: AIS/WorldBank_SAIS_globalAOI_20190101_20201231_000000000108.csv\n",
      "13:02:51\t110 of 5000: AIS/WorldBank_SAIS_globalAOI_20190101_20201231_000000000109.csv\n",
      "13:03:23\t111 of 5000: AIS/WorldBank_SAIS_globalAOI_20190101_20201231_000000000110.csv\n",
      "13:03:53\t112 of 5000: AIS/WorldBank_SAIS_globalAOI_20190101_20201231_000000000111.csv\n",
      "13:04:23\t113 of 5000: AIS/WorldBank_SAIS_globalAOI_20190101_20201231_000000000112.csv\n",
      "13:04:53\t114 of 5000: AIS/WorldBank_SAIS_globalAOI_20190101_20201231_000000000113.csv\n",
      "13:05:23\t115 of 5000: AIS/WorldBank_SAIS_globalAOI_20190101_20201231_000000000114.csv\n",
      "13:05:53\t116 of 5000: AIS/WorldBank_SAIS_globalAOI_20190101_20201231_000000000115.csv\n",
      "13:06:24\t117 of 5000: AIS/WorldBank_SAIS_globalAOI_20190101_20201231_000000000116.csv\n",
      "13:06:54\t118 of 5000: AIS/WorldBank_SAIS_globalAOI_20190101_20201231_000000000117.csv\n",
      "13:07:26\t119 of 5000: AIS/WorldBank_SAIS_globalAOI_20190101_20201231_000000000118.csv\n",
      "13:08:00\t120 of 5000: AIS/WorldBank_SAIS_globalAOI_20190101_20201231_000000000119.csv\n",
      "13:08:33\t121 of 5000: AIS/WorldBank_SAIS_globalAOI_20190101_20201231_000000000120.csv\n",
      "13:09:04\t122 of 5000: AIS/WorldBank_SAIS_globalAOI_20190101_20201231_000000000121.csv\n",
      "13:09:37\t123 of 5000: AIS/WorldBank_SAIS_globalAOI_20190101_20201231_000000000122.csv\n",
      "13:10:09\t124 of 5000: AIS/WorldBank_SAIS_globalAOI_20190101_20201231_000000000123.csv\n",
      "13:10:41\t125 of 5000: AIS/WorldBank_SAIS_globalAOI_20190101_20201231_000000000124.csv\n",
      "13:11:11\t126 of 5000: AIS/WorldBank_SAIS_globalAOI_20190101_20201231_000000000125.csv\n",
      "13:11:44\t127 of 5000: AIS/WorldBank_SAIS_globalAOI_20190101_20201231_000000000126.csv\n",
      "13:12:17\t128 of 5000: AIS/WorldBank_SAIS_globalAOI_20190101_20201231_000000000127.csv\n",
      "13:12:50\t129 of 5000: AIS/WorldBank_SAIS_globalAOI_20190101_20201231_000000000128.csv\n",
      "13:13:26\t130 of 5000: AIS/WorldBank_SAIS_globalAOI_20190101_20201231_000000000129.csv\n",
      "13:13:57\t131 of 5000: AIS/WorldBank_SAIS_globalAOI_20190101_20201231_000000000130.csv\n",
      "13:14:28\t132 of 5000: AIS/WorldBank_SAIS_globalAOI_20190101_20201231_000000000131.csv\n",
      "13:15:43\t133 of 5000: AIS/WorldBank_SAIS_globalAOI_20190101_20201231_000000000132.csv\n",
      "13:16:15\t134 of 5000: AIS/WorldBank_SAIS_globalAOI_20190101_20201231_000000000133.csv\n",
      "13:16:48\t135 of 5000: AIS/WorldBank_SAIS_globalAOI_20190101_20201231_000000000134.csv\n",
      "13:17:20\t136 of 5000: AIS/WorldBank_SAIS_globalAOI_20190101_20201231_000000000135.csv\n",
      "13:17:55\t137 of 5000: AIS/WorldBank_SAIS_globalAOI_20190101_20201231_000000000136.csv\n",
      "13:18:27\t138 of 5000: AIS/WorldBank_SAIS_globalAOI_20190101_20201231_000000000137.csv\n",
      "13:19:00\t139 of 5000: AIS/WorldBank_SAIS_globalAOI_20190101_20201231_000000000138.csv\n",
      "13:19:36\t140 of 5000: AIS/WorldBank_SAIS_globalAOI_20190101_20201231_000000000139.csv\n",
      "13:20:12\t141 of 5000: AIS/WorldBank_SAIS_globalAOI_20190101_20201231_000000000140.csv\n",
      "13:20:45\t142 of 5000: AIS/WorldBank_SAIS_globalAOI_20190101_20201231_000000000141.csv\n",
      "13:21:20\t143 of 5000: AIS/WorldBank_SAIS_globalAOI_20190101_20201231_000000000142.csv\n",
      "13:21:55\t144 of 5000: AIS/WorldBank_SAIS_globalAOI_20190101_20201231_000000000143.csv\n",
      "13:22:28\t145 of 5000: AIS/WorldBank_SAIS_globalAOI_20190101_20201231_000000000144.csv\n",
      "13:23:02\t146 of 5000: AIS/WorldBank_SAIS_globalAOI_20190101_20201231_000000000145.csv\n",
      "13:23:37\t147 of 5000: AIS/WorldBank_SAIS_globalAOI_20190101_20201231_000000000146.csv\n",
      "13:24:16\t148 of 5000: AIS/WorldBank_SAIS_globalAOI_20190101_20201231_000000000147.csv\n",
      "13:24:52\t149 of 5000: AIS/WorldBank_SAIS_globalAOI_20190101_20201231_000000000148.csv\n",
      "13:25:28\t150 of 5000: AIS/WorldBank_SAIS_globalAOI_20190101_20201231_000000000149.csv\n",
      "13:26:06\t151 of 5000: AIS/WorldBank_SAIS_globalAOI_20190101_20201231_000000000150.csv\n",
      "13:26:40\t152 of 5000: AIS/WorldBank_SAIS_globalAOI_20190101_20201231_000000000151.csv\n",
      "13:27:17\t153 of 5000: AIS/WorldBank_SAIS_globalAOI_20190101_20201231_000000000152.csv\n",
      "13:27:52\t154 of 5000: AIS/WorldBank_SAIS_globalAOI_20190101_20201231_000000000153.csv\n",
      "13:28:28\t155 of 5000: AIS/WorldBank_SAIS_globalAOI_20190101_20201231_000000000154.csv\n",
      "13:29:05\t156 of 5000: AIS/WorldBank_SAIS_globalAOI_20190101_20201231_000000000155.csv\n",
      "13:29:42\t157 of 5000: AIS/WorldBank_SAIS_globalAOI_20190101_20201231_000000000156.csv\n",
      "13:30:20\t158 of 5000: AIS/WorldBank_SAIS_globalAOI_20190101_20201231_000000000157.csv\n",
      "13:30:57\t159 of 5000: AIS/WorldBank_SAIS_globalAOI_20190101_20201231_000000000158.csv\n",
      "13:31:34\t160 of 5000: AIS/WorldBank_SAIS_globalAOI_20190101_20201231_000000000159.csv\n",
      "13:32:12\t161 of 5000: AIS/WorldBank_SAIS_globalAOI_20190101_20201231_000000000160.csv\n",
      "13:32:50\t162 of 5000: AIS/WorldBank_SAIS_globalAOI_20190101_20201231_000000000161.csv\n",
      "13:33:28\t163 of 5000: AIS/WorldBank_SAIS_globalAOI_20190101_20201231_000000000162.csv\n",
      "13:34:05\t164 of 5000: AIS/WorldBank_SAIS_globalAOI_20190101_20201231_000000000163.csv\n",
      "13:34:42\t165 of 5000: AIS/WorldBank_SAIS_globalAOI_20190101_20201231_000000000164.csv\n",
      "13:35:21\t166 of 5000: AIS/WorldBank_SAIS_globalAOI_20190101_20201231_000000000165.csv\n",
      "13:35:57\t167 of 5000: AIS/WorldBank_SAIS_globalAOI_20190101_20201231_000000000166.csv\n",
      "13:36:36\t168 of 5000: AIS/WorldBank_SAIS_globalAOI_20190101_20201231_000000000167.csv\n",
      "13:37:16\t169 of 5000: AIS/WorldBank_SAIS_globalAOI_20190101_20201231_000000000168.csv\n",
      "13:37:59\t170 of 5000: AIS/WorldBank_SAIS_globalAOI_20190101_20201231_000000000169.csv\n",
      "13:38:51\t171 of 5000: AIS/WorldBank_SAIS_globalAOI_20190101_20201231_000000000170.csv\n",
      "13:39:33\t172 of 5000: AIS/WorldBank_SAIS_globalAOI_20190101_20201231_000000000171.csv\n",
      "13:40:16\t173 of 5000: AIS/WorldBank_SAIS_globalAOI_20190101_20201231_000000000172.csv\n",
      "13:40:57\t174 of 5000: AIS/WorldBank_SAIS_globalAOI_20190101_20201231_000000000173.csv\n",
      "13:41:37\t175 of 5000: AIS/WorldBank_SAIS_globalAOI_20190101_20201231_000000000174.csv\n",
      "13:42:16\t176 of 5000: AIS/WorldBank_SAIS_globalAOI_20190101_20201231_000000000175.csv\n",
      "13:42:55\t177 of 5000: AIS/WorldBank_SAIS_globalAOI_20190101_20201231_000000000176.csv\n",
      "13:43:37\t178 of 5000: AIS/WorldBank_SAIS_globalAOI_20190101_20201231_000000000177.csv\n",
      "13:44:16\t179 of 5000: AIS/WorldBank_SAIS_globalAOI_20190101_20201231_000000000178.csv\n",
      "13:44:58\t180 of 5000: AIS/WorldBank_SAIS_globalAOI_20190101_20201231_000000000179.csv\n",
      "13:45:38\t181 of 5000: AIS/WorldBank_SAIS_globalAOI_20190101_20201231_000000000180.csv\n",
      "13:46:20\t182 of 5000: AIS/WorldBank_SAIS_globalAOI_20190101_20201231_000000000181.csv\n",
      "13:47:03\t183 of 5000: AIS/WorldBank_SAIS_globalAOI_20190101_20201231_000000000182.csv\n",
      "13:47:44\t184 of 5000: AIS/WorldBank_SAIS_globalAOI_20190101_20201231_000000000183.csv\n",
      "13:48:26\t185 of 5000: AIS/WorldBank_SAIS_globalAOI_20190101_20201231_000000000184.csv\n",
      "13:49:10\t186 of 5000: AIS/WorldBank_SAIS_globalAOI_20190101_20201231_000000000185.csv\n",
      "13:49:50\t187 of 5000: AIS/WorldBank_SAIS_globalAOI_20190101_20201231_000000000186.csv\n",
      "13:50:34\t188 of 5000: AIS/WorldBank_SAIS_globalAOI_20190101_20201231_000000000187.csv\n",
      "13:51:17\t189 of 5000: AIS/WorldBank_SAIS_globalAOI_20190101_20201231_000000000188.csv\n",
      "13:51:58\t190 of 5000: AIS/WorldBank_SAIS_globalAOI_20190101_20201231_000000000189.csv\n",
      "13:52:42\t191 of 5000: AIS/WorldBank_SAIS_globalAOI_20190101_20201231_000000000190.csv\n",
      "13:53:25\t192 of 5000: AIS/WorldBank_SAIS_globalAOI_20190101_20201231_000000000191.csv\n",
      "13:54:10\t193 of 5000: AIS/WorldBank_SAIS_globalAOI_20190101_20201231_000000000192.csv\n",
      "13:54:53\t194 of 5000: AIS/WorldBank_SAIS_globalAOI_20190101_20201231_000000000193.csv\n"
     ]
    },
    {
     "name": "stdout",
     "output_type": "stream",
     "text": [
      "13:55:40\t195 of 5000: AIS/WorldBank_SAIS_globalAOI_20190101_20201231_000000000194.csv\n",
      "13:56:33\t196 of 5000: AIS/WorldBank_SAIS_globalAOI_20190101_20201231_000000000195.csv\n"
     ]
    }
   ],
   "source": [
    "# Loop through all the input files, read and append them\n",
    "try:\n",
    "    del final_ais\n",
    "except:\n",
    "    pass\n",
    "loop_cnt = 0\n",
    "for ais_file_info in final:\n",
    "    loop_cnt = loop_cnt + 1\n",
    "    tPrint(f'{loop_cnt} of {len(final)}: {ais_file_info[\"Key\"]}')\n",
    "    curD = pd.read_csv(os.path.join(\"s3://\", aws_bucket, ais_file_info['Key']))\n",
    "    # Limit the returned columns to shrink datasize\n",
    "    curD = curD.loc[:,['timestamp','mmsi','status','ship_and_cargo_type','latitude','longitude']]\n",
    "    try:\n",
    "        final_ais = final_ais.append(curD)\n",
    "    except:\n",
    "        final_ais = curD\n",
    "        \n",
    "    "
   ]
  },
  {
   "cell_type": "code",
   "execution_count": null,
   "metadata": {},
   "outputs": [],
   "source": [
    "# Convert time to just the YYYY-MM-DD\n",
    "final_ais['timestamp'] = final_ais['timestamp'].apply(lambda x: x[:10])\n",
    "feather.write_feather(final_ais, os.path.join(out_folder, \"AIS_Combined_2019_2020.feather\"))"
   ]
  },
  {
   "cell_type": "markdown",
   "metadata": {},
   "source": [
    "# DEBUGGING"
   ]
  },
  {
   "cell_type": "code",
   "execution_count": 35,
   "metadata": {},
   "outputs": [],
   "source": [
    "# The geohash bit is cool but didn't shrink size at all\n",
    "# curD['geohash'] = curD.apply(lambda x: pygeohash.encode(x['latitude'], x['longitude']), axis=1)"
   ]
  },
  {
   "cell_type": "code",
   "execution_count": 39,
   "metadata": {},
   "outputs": [],
   "source": [
    "\n",
    "feather.write_feather(curD.loc[:,['timestamp','mmsi','status','ship_and_cargo_type','latitude','longitude']], \n",
    "                      os.path.join(out_folder, ais_file_info['Key'].replace(\".csv\", \".feather\")))"
   ]
  },
  {
   "cell_type": "code",
   "execution_count": 33,
   "metadata": {},
   "outputs": [],
   "source": [
    "feather.write_feather(curD, \n",
    "                      os.path.join(out_folder, ais_file_info['Key'].replace(\".csv\", \"_full.feather\")))"
   ]
  },
  {
   "cell_type": "code",
   "execution_count": 37,
   "metadata": {},
   "outputs": [],
   "source": [
    "feather.write_feather(curD.loc[:,['timestamp','geohash']], \n",
    "                      os.path.join(out_folder, ais_file_info['Key'].replace(\".csv\", \"_small.feather\")))"
   ]
  },
  {
   "cell_type": "code",
   "execution_count": 38,
   "metadata": {},
   "outputs": [
    {
     "data": {
      "text/plain": [
       "Index(['created_at', 'timestamp', 'mmsi', 'msg_type', 'latitude', 'longitude',\n",
       "       'speed', 'course', 'heading', 'rot', 'imo', 'name', 'call_sign', 'flag',\n",
       "       'draught', 'ship_and_cargo_type', 'length', 'width', 'eta',\n",
       "       'destination', 'status', 'maneuver', 'accuracy', 'collection_type',\n",
       "       'to_bow', 'to_stern', 'to_port', 'to_starboard', 'geohash'],\n",
       "      dtype='object')"
      ]
     },
     "execution_count": 38,
     "metadata": {},
     "output_type": "execute_result"
    }
   ],
   "source": [
    "curD.columns"
   ]
  },
  {
   "cell_type": "code",
   "execution_count": null,
   "metadata": {},
   "outputs": [],
   "source": []
  }
 ],
 "metadata": {
  "kernelspec": {
   "display_name": "Earth Engine",
   "language": "python",
   "name": "ee"
  },
  "language_info": {
   "codemirror_mode": {
    "name": "ipython",
    "version": 3
   },
   "file_extension": ".py",
   "mimetype": "text/x-python",
   "name": "python",
   "nbconvert_exporter": "python",
   "pygments_lexer": "ipython3",
   "version": "3.9.4"
  }
 },
 "nbformat": 4,
 "nbformat_minor": 5
}
