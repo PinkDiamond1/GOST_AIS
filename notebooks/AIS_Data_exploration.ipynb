{
 "cells": [
  {
   "cell_type": "code",
   "execution_count": 1,
   "metadata": {},
   "outputs": [],
   "source": [
    "import sys, os, importlib\n",
    "import rasterio\n",
    "\n",
    "import pandas as pd\n",
    "import geopandas as gpd\n",
    "import GOSTRocks.rasterMisc as rMisc\n",
    "\n",
    "from shapely.geometry import Point, LineString\n",
    "\n",
    "sys.path.append(\"../src\")\n",
    "\n",
    "import GOST_AIS.ais_data_helper as ais"
   ]
  },
  {
   "cell_type": "code",
   "execution_count": null,
   "metadata": {},
   "outputs": [],
   "source": [
    "importlib.reload(ais)\n",
    "\n",
    "in_file = 's3://wbgdecinternal-ntl/AIS_TMP/MMSI_247298800.csv'\n",
    "inD = ais.ais_file(in_file)\n",
    "tempD = inD.read_simple_geom()\n",
    "tempD['DAY'] = tempD['timestamp'].apply(lambda x: x[:10])"
   ]
  },
  {
   "cell_type": "code",
   "execution_count": null,
   "metadata": {},
   "outputs": [],
   "source": [
    "tempD.to_file(f'/home/wb411133/temp/AIS/{os.path.basename(in_file).replace(\".csv\",\"\")}.geojson', driver=\"GeoJSON\")"
   ]
  },
  {
   "cell_type": "code",
   "execution_count": null,
   "metadata": {},
   "outputs": [],
   "source": [
    "# Generate lines file for individual ship data\n",
    "importlib.reload(ais)\n",
    "line_features = ais.generate_linear_features(tempD)\n",
    "line_features.to_file(f'/home/wb411133/temp/AIS/{os.path.basename(in_file).replace(\".csv\",\"_lines_simple\")}.geojson', driver=\"GeoJSON\")"
   ]
  },
  {
   "cell_type": "markdown",
   "metadata": {},
   "source": [
    "# Processing daily files"
   ]
  },
  {
   "cell_type": "code",
   "execution_count": 2,
   "metadata": {},
   "outputs": [],
   "source": [
    "daily_file = 's3://wbgdecinternal-ntl/AIS_TMP/MAY2.csv'\n",
    "inD = pd.read_csv(daily_file)"
   ]
  },
  {
   "cell_type": "code",
   "execution_count": 4,
   "metadata": {},
   "outputs": [],
   "source": [
    "inD = inD.loc[~inD['latitude'].isna()]\n",
    "inD['DAY'] = inD['timestamp'].apply(lambda x: x[:10])"
   ]
  },
  {
   "cell_type": "code",
   "execution_count": 5,
   "metadata": {},
   "outputs": [
    {
     "data": {
      "text/plain": [
       "2020-05-02    4826642\n",
       "2019-05-02          1\n",
       "Name: DAY, dtype: int64"
      ]
     },
     "execution_count": 5,
     "metadata": {},
     "output_type": "execute_result"
    }
   ],
   "source": [
    "inD['DAY'].value_counts()"
   ]
  },
  {
   "cell_type": "code",
   "execution_count": 6,
   "metadata": {},
   "outputs": [],
   "source": [
    "inD_geom = [Point(x['longitude'], x['latitude']) for idx, x in inD.iterrows()]\n",
    "inGPD = gpd.GeoDataFrame(inD, geometry=inD_geom, crs='epsg:4326')"
   ]
  },
  {
   "cell_type": "code",
   "execution_count": 7,
   "metadata": {},
   "outputs": [],
   "source": [
    "rMisc.rasterizeDataFrame?"
   ]
  },
  {
   "cell_type": "code",
   "execution_count": 9,
   "metadata": {},
   "outputs": [
    {
     "name": "stdout",
     "output_type": "stream",
     "text": [
      "{'init': 'epsg:4326'}\n"
     ]
    },
    {
     "data": {
      "text/plain": [
       "{'meta': {'count': 1,\n",
       "  'crs': {'init': 'epsg:4326'},\n",
       "  'dtype': dtype('int16'),\n",
       "  'driver': 'GTiff',\n",
       "  'transform': Affine(0.09999992592592592, 0.0, -179.99984,\n",
       "         0.0, -0.09997502414113278, 89.52888),\n",
       "  'height': 1795,\n",
       "  'width': 3600},\n",
       " 'vals': array([[0, 0, 0, ..., 0, 0, 0],\n",
       "        [0, 0, 0, ..., 0, 0, 0],\n",
       "        [0, 0, 0, ..., 0, 0, 0],\n",
       "        ...,\n",
       "        [0, 0, 0, ..., 0, 0, 0],\n",
       "        [0, 0, 0, ..., 0, 0, 0],\n",
       "        [0, 0, 0, ..., 0, 0, 0]], dtype=int16)}"
      ]
     },
     "execution_count": 9,
     "metadata": {},
     "output_type": "execute_result"
    }
   ],
   "source": [
    "out_file = \"/home/wb411133/temp/AIS/may2.tif\"\n",
    "rMisc.rasterizeDataFrame(inGPD, out_file, res=0.1, mergeAlg=\"ADD\")"
   ]
  },
  {
   "cell_type": "code",
   "execution_count": null,
   "metadata": {},
   "outputs": [],
   "source": []
  }
 ],
 "metadata": {
  "kernelspec": {
   "display_name": "Earth Engine",
   "language": "python",
   "name": "ee"
  },
  "language_info": {
   "codemirror_mode": {
    "name": "ipython",
    "version": 3
   },
   "file_extension": ".py",
   "mimetype": "text/x-python",
   "name": "python",
   "nbconvert_exporter": "python",
   "pygments_lexer": "ipython3",
   "version": "3.9.4"
  }
 },
 "nbformat": 4,
 "nbformat_minor": 2
}
